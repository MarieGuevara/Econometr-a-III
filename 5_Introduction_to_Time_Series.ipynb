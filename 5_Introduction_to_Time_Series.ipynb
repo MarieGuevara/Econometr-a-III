{
  "nbformat": 4,
  "nbformat_minor": 0,
  "metadata": {
    "colab": {
      "provenance": []
    },
    "kernelspec": {
      "name": "python3",
      "display_name": "Python 3"
    },
    "language_info": {
      "name": "python"
    }
  },
  "cells": [
    {
      "cell_type": "code",
      "execution_count": null,
      "metadata": {
        "id": "6WILsrRRwLvV"
      },
      "outputs": [],
      "source": [
        "import pandas as pd\n",
        "import numpy as np\n",
        "import matplotlib.pyplot as plt\n",
        "import statsmodels.graphics.tsaplots as sgt\n",
        "from statsmodels.tsa.arima.model import ARIMA\n",
        "from scipy.stats.distributions import chi2\n",
        "import statsmodels.tsa.stattools as sts\n",
        "import seaborn as sns\n",
        "sns.set()"
      ]
    },
    {
      "cell_type": "code",
      "source": [
        "url = '/content/drive/MyDrive/Colab Notebooks/TAREA_2_ECONOMETRIA_III/Index_modified.csv'\n",
        "df_comp = pd.read_csv(url)\n"
      ],
      "metadata": {
        "id": "QAVT7lGRwsAA"
      },
      "execution_count": null,
      "outputs": []
    },
    {
      "cell_type": "markdown",
      "source": [],
      "metadata": {
        "id": "XtMq56hcld-a"
      }
    },
    {
      "cell_type": "code",
      "source": [
        "df_comp.head()"
      ],
      "metadata": {
        "colab": {
          "base_uri": "https://localhost:8080/",
          "height": 206
        },
        "id": "QLNVEetz0YZE",
        "outputId": "e8de234f-9b66-497d-8637-160811d67d67"
      },
      "execution_count": null,
      "outputs": [
        {
          "output_type": "execute_result",
          "data": {
            "text/plain": [
              "         date     spx      dax     ftse    nikkei\n",
              "0  1994-01-07  469.90  2224.95  3445.98  18124.01\n",
              "1  1994-01-10  475.27  2225.00  3440.58  18443.44\n",
              "2  1994-01-11  474.13  2228.10  3413.77  18485.25\n",
              "3  1994-01-12  474.17  2182.06  3372.02  18793.88\n",
              "4  1994-01-13  472.47  2142.37  3360.01  18577.26"
            ],
            "text/html": [
              "\n",
              "  <div id=\"df-d4082993-21d6-45e8-9ef5-85085f9649da\" class=\"colab-df-container\">\n",
              "    <div>\n",
              "<style scoped>\n",
              "    .dataframe tbody tr th:only-of-type {\n",
              "        vertical-align: middle;\n",
              "    }\n",
              "\n",
              "    .dataframe tbody tr th {\n",
              "        vertical-align: top;\n",
              "    }\n",
              "\n",
              "    .dataframe thead th {\n",
              "        text-align: right;\n",
              "    }\n",
              "</style>\n",
              "<table border=\"1\" class=\"dataframe\">\n",
              "  <thead>\n",
              "    <tr style=\"text-align: right;\">\n",
              "      <th></th>\n",
              "      <th>date</th>\n",
              "      <th>spx</th>\n",
              "      <th>dax</th>\n",
              "      <th>ftse</th>\n",
              "      <th>nikkei</th>\n",
              "    </tr>\n",
              "  </thead>\n",
              "  <tbody>\n",
              "    <tr>\n",
              "      <th>0</th>\n",
              "      <td>1994-01-07</td>\n",
              "      <td>469.90</td>\n",
              "      <td>2224.95</td>\n",
              "      <td>3445.98</td>\n",
              "      <td>18124.01</td>\n",
              "    </tr>\n",
              "    <tr>\n",
              "      <th>1</th>\n",
              "      <td>1994-01-10</td>\n",
              "      <td>475.27</td>\n",
              "      <td>2225.00</td>\n",
              "      <td>3440.58</td>\n",
              "      <td>18443.44</td>\n",
              "    </tr>\n",
              "    <tr>\n",
              "      <th>2</th>\n",
              "      <td>1994-01-11</td>\n",
              "      <td>474.13</td>\n",
              "      <td>2228.10</td>\n",
              "      <td>3413.77</td>\n",
              "      <td>18485.25</td>\n",
              "    </tr>\n",
              "    <tr>\n",
              "      <th>3</th>\n",
              "      <td>1994-01-12</td>\n",
              "      <td>474.17</td>\n",
              "      <td>2182.06</td>\n",
              "      <td>3372.02</td>\n",
              "      <td>18793.88</td>\n",
              "    </tr>\n",
              "    <tr>\n",
              "      <th>4</th>\n",
              "      <td>1994-01-13</td>\n",
              "      <td>472.47</td>\n",
              "      <td>2142.37</td>\n",
              "      <td>3360.01</td>\n",
              "      <td>18577.26</td>\n",
              "    </tr>\n",
              "  </tbody>\n",
              "</table>\n",
              "</div>\n",
              "    <div class=\"colab-df-buttons\">\n",
              "\n",
              "  <div class=\"colab-df-container\">\n",
              "    <button class=\"colab-df-convert\" onclick=\"convertToInteractive('df-d4082993-21d6-45e8-9ef5-85085f9649da')\"\n",
              "            title=\"Convert this dataframe to an interactive table.\"\n",
              "            style=\"display:none;\">\n",
              "\n",
              "  <svg xmlns=\"http://www.w3.org/2000/svg\" height=\"24px\" viewBox=\"0 -960 960 960\">\n",
              "    <path d=\"M120-120v-720h720v720H120Zm60-500h600v-160H180v160Zm220 220h160v-160H400v160Zm0 220h160v-160H400v160ZM180-400h160v-160H180v160Zm440 0h160v-160H620v160ZM180-180h160v-160H180v160Zm440 0h160v-160H620v160Z\"/>\n",
              "  </svg>\n",
              "    </button>\n",
              "\n",
              "  <style>\n",
              "    .colab-df-container {\n",
              "      display:flex;\n",
              "      gap: 12px;\n",
              "    }\n",
              "\n",
              "    .colab-df-convert {\n",
              "      background-color: #E8F0FE;\n",
              "      border: none;\n",
              "      border-radius: 50%;\n",
              "      cursor: pointer;\n",
              "      display: none;\n",
              "      fill: #1967D2;\n",
              "      height: 32px;\n",
              "      padding: 0 0 0 0;\n",
              "      width: 32px;\n",
              "    }\n",
              "\n",
              "    .colab-df-convert:hover {\n",
              "      background-color: #E2EBFA;\n",
              "      box-shadow: 0px 1px 2px rgba(60, 64, 67, 0.3), 0px 1px 3px 1px rgba(60, 64, 67, 0.15);\n",
              "      fill: #174EA6;\n",
              "    }\n",
              "\n",
              "    .colab-df-buttons div {\n",
              "      margin-bottom: 4px;\n",
              "    }\n",
              "\n",
              "    [theme=dark] .colab-df-convert {\n",
              "      background-color: #3B4455;\n",
              "      fill: #D2E3FC;\n",
              "    }\n",
              "\n",
              "    [theme=dark] .colab-df-convert:hover {\n",
              "      background-color: #434B5C;\n",
              "      box-shadow: 0px 1px 3px 1px rgba(0, 0, 0, 0.15);\n",
              "      filter: drop-shadow(0px 1px 2px rgba(0, 0, 0, 0.3));\n",
              "      fill: #FFFFFF;\n",
              "    }\n",
              "  </style>\n",
              "\n",
              "    <script>\n",
              "      const buttonEl =\n",
              "        document.querySelector('#df-d4082993-21d6-45e8-9ef5-85085f9649da button.colab-df-convert');\n",
              "      buttonEl.style.display =\n",
              "        google.colab.kernel.accessAllowed ? 'block' : 'none';\n",
              "\n",
              "      async function convertToInteractive(key) {\n",
              "        const element = document.querySelector('#df-d4082993-21d6-45e8-9ef5-85085f9649da');\n",
              "        const dataTable =\n",
              "          await google.colab.kernel.invokeFunction('convertToInteractive',\n",
              "                                                    [key], {});\n",
              "        if (!dataTable) return;\n",
              "\n",
              "        const docLinkHtml = 'Like what you see? Visit the ' +\n",
              "          '<a target=\"_blank\" href=https://colab.research.google.com/notebooks/data_table.ipynb>data table notebook</a>'\n",
              "          + ' to learn more about interactive tables.';\n",
              "        element.innerHTML = '';\n",
              "        dataTable['output_type'] = 'display_data';\n",
              "        await google.colab.output.renderOutput(dataTable, element);\n",
              "        const docLink = document.createElement('div');\n",
              "        docLink.innerHTML = docLinkHtml;\n",
              "        element.appendChild(docLink);\n",
              "      }\n",
              "    </script>\n",
              "  </div>\n",
              "\n",
              "\n",
              "<div id=\"df-ad7eb6b1-743c-4269-9292-756d7c9f4610\">\n",
              "  <button class=\"colab-df-quickchart\" onclick=\"quickchart('df-ad7eb6b1-743c-4269-9292-756d7c9f4610')\"\n",
              "            title=\"Suggest charts.\"\n",
              "            style=\"display:none;\">\n",
              "\n",
              "<svg xmlns=\"http://www.w3.org/2000/svg\" height=\"24px\"viewBox=\"0 0 24 24\"\n",
              "     width=\"24px\">\n",
              "    <g>\n",
              "        <path d=\"M19 3H5c-1.1 0-2 .9-2 2v14c0 1.1.9 2 2 2h14c1.1 0 2-.9 2-2V5c0-1.1-.9-2-2-2zM9 17H7v-7h2v7zm4 0h-2V7h2v10zm4 0h-2v-4h2v4z\"/>\n",
              "    </g>\n",
              "</svg>\n",
              "  </button>\n",
              "\n",
              "<style>\n",
              "  .colab-df-quickchart {\n",
              "      --bg-color: #E8F0FE;\n",
              "      --fill-color: #1967D2;\n",
              "      --hover-bg-color: #E2EBFA;\n",
              "      --hover-fill-color: #174EA6;\n",
              "      --disabled-fill-color: #AAA;\n",
              "      --disabled-bg-color: #DDD;\n",
              "  }\n",
              "\n",
              "  [theme=dark] .colab-df-quickchart {\n",
              "      --bg-color: #3B4455;\n",
              "      --fill-color: #D2E3FC;\n",
              "      --hover-bg-color: #434B5C;\n",
              "      --hover-fill-color: #FFFFFF;\n",
              "      --disabled-bg-color: #3B4455;\n",
              "      --disabled-fill-color: #666;\n",
              "  }\n",
              "\n",
              "  .colab-df-quickchart {\n",
              "    background-color: var(--bg-color);\n",
              "    border: none;\n",
              "    border-radius: 50%;\n",
              "    cursor: pointer;\n",
              "    display: none;\n",
              "    fill: var(--fill-color);\n",
              "    height: 32px;\n",
              "    padding: 0;\n",
              "    width: 32px;\n",
              "  }\n",
              "\n",
              "  .colab-df-quickchart:hover {\n",
              "    background-color: var(--hover-bg-color);\n",
              "    box-shadow: 0 1px 2px rgba(60, 64, 67, 0.3), 0 1px 3px 1px rgba(60, 64, 67, 0.15);\n",
              "    fill: var(--button-hover-fill-color);\n",
              "  }\n",
              "\n",
              "  .colab-df-quickchart-complete:disabled,\n",
              "  .colab-df-quickchart-complete:disabled:hover {\n",
              "    background-color: var(--disabled-bg-color);\n",
              "    fill: var(--disabled-fill-color);\n",
              "    box-shadow: none;\n",
              "  }\n",
              "\n",
              "  .colab-df-spinner {\n",
              "    border: 2px solid var(--fill-color);\n",
              "    border-color: transparent;\n",
              "    border-bottom-color: var(--fill-color);\n",
              "    animation:\n",
              "      spin 1s steps(1) infinite;\n",
              "  }\n",
              "\n",
              "  @keyframes spin {\n",
              "    0% {\n",
              "      border-color: transparent;\n",
              "      border-bottom-color: var(--fill-color);\n",
              "      border-left-color: var(--fill-color);\n",
              "    }\n",
              "    20% {\n",
              "      border-color: transparent;\n",
              "      border-left-color: var(--fill-color);\n",
              "      border-top-color: var(--fill-color);\n",
              "    }\n",
              "    30% {\n",
              "      border-color: transparent;\n",
              "      border-left-color: var(--fill-color);\n",
              "      border-top-color: var(--fill-color);\n",
              "      border-right-color: var(--fill-color);\n",
              "    }\n",
              "    40% {\n",
              "      border-color: transparent;\n",
              "      border-right-color: var(--fill-color);\n",
              "      border-top-color: var(--fill-color);\n",
              "    }\n",
              "    60% {\n",
              "      border-color: transparent;\n",
              "      border-right-color: var(--fill-color);\n",
              "    }\n",
              "    80% {\n",
              "      border-color: transparent;\n",
              "      border-right-color: var(--fill-color);\n",
              "      border-bottom-color: var(--fill-color);\n",
              "    }\n",
              "    90% {\n",
              "      border-color: transparent;\n",
              "      border-bottom-color: var(--fill-color);\n",
              "    }\n",
              "  }\n",
              "</style>\n",
              "\n",
              "  <script>\n",
              "    async function quickchart(key) {\n",
              "      const quickchartButtonEl =\n",
              "        document.querySelector('#' + key + ' button');\n",
              "      quickchartButtonEl.disabled = true;  // To prevent multiple clicks.\n",
              "      quickchartButtonEl.classList.add('colab-df-spinner');\n",
              "      try {\n",
              "        const charts = await google.colab.kernel.invokeFunction(\n",
              "            'suggestCharts', [key], {});\n",
              "      } catch (error) {\n",
              "        console.error('Error during call to suggestCharts:', error);\n",
              "      }\n",
              "      quickchartButtonEl.classList.remove('colab-df-spinner');\n",
              "      quickchartButtonEl.classList.add('colab-df-quickchart-complete');\n",
              "    }\n",
              "    (() => {\n",
              "      let quickchartButtonEl =\n",
              "        document.querySelector('#df-ad7eb6b1-743c-4269-9292-756d7c9f4610 button');\n",
              "      quickchartButtonEl.style.display =\n",
              "        google.colab.kernel.accessAllowed ? 'block' : 'none';\n",
              "    })();\n",
              "  </script>\n",
              "</div>\n",
              "    </div>\n",
              "  </div>\n"
            ]
          },
          "metadata": {},
          "execution_count": 44
        }
      ]
    },
    {
      "cell_type": "code",
      "source": [
        "raw_csv_data = pd.read_csv(url)\n",
        "df_comp=raw_csv_data.copy()\n",
        "df_comp.date = pd.to_datetime(df_comp.date, dayfirst = True)\n",
        "df_comp.set_index(\"date\", inplace=True)\n",
        "df_comp=df_comp.asfreq('b')\n",
        "df_comp=df_comp.fillna(method='ffill')"
      ],
      "metadata": {
        "id": "Z5CMXCA9gdG2"
      },
      "execution_count": null,
      "outputs": []
    },
    {
      "cell_type": "code",
      "source": [
        "df_comp.head()"
      ],
      "metadata": {
        "colab": {
          "base_uri": "https://localhost:8080/",
          "height": 237
        },
        "id": "v_WXX6jLzuP_",
        "outputId": "e4fd6648-3dce-46ed-fe2c-c92b6fa9ccbf"
      },
      "execution_count": null,
      "outputs": [
        {
          "output_type": "execute_result",
          "data": {
            "text/plain": [
              "               spx      dax     ftse    nikkei\n",
              "date                                          \n",
              "1994-01-07  469.90  2224.95  3445.98  18124.01\n",
              "1994-01-10  475.27  2225.00  3440.58  18443.44\n",
              "1994-01-11  474.13  2228.10  3413.77  18485.25\n",
              "1994-01-12  474.17  2182.06  3372.02  18793.88\n",
              "1994-01-13  472.47  2142.37  3360.01  18577.26"
            ],
            "text/html": [
              "\n",
              "  <div id=\"df-6cb3a558-2380-4bd7-9eca-05f285fdd501\" class=\"colab-df-container\">\n",
              "    <div>\n",
              "<style scoped>\n",
              "    .dataframe tbody tr th:only-of-type {\n",
              "        vertical-align: middle;\n",
              "    }\n",
              "\n",
              "    .dataframe tbody tr th {\n",
              "        vertical-align: top;\n",
              "    }\n",
              "\n",
              "    .dataframe thead th {\n",
              "        text-align: right;\n",
              "    }\n",
              "</style>\n",
              "<table border=\"1\" class=\"dataframe\">\n",
              "  <thead>\n",
              "    <tr style=\"text-align: right;\">\n",
              "      <th></th>\n",
              "      <th>spx</th>\n",
              "      <th>dax</th>\n",
              "      <th>ftse</th>\n",
              "      <th>nikkei</th>\n",
              "    </tr>\n",
              "    <tr>\n",
              "      <th>date</th>\n",
              "      <th></th>\n",
              "      <th></th>\n",
              "      <th></th>\n",
              "      <th></th>\n",
              "    </tr>\n",
              "  </thead>\n",
              "  <tbody>\n",
              "    <tr>\n",
              "      <th>1994-01-07</th>\n",
              "      <td>469.90</td>\n",
              "      <td>2224.95</td>\n",
              "      <td>3445.98</td>\n",
              "      <td>18124.01</td>\n",
              "    </tr>\n",
              "    <tr>\n",
              "      <th>1994-01-10</th>\n",
              "      <td>475.27</td>\n",
              "      <td>2225.00</td>\n",
              "      <td>3440.58</td>\n",
              "      <td>18443.44</td>\n",
              "    </tr>\n",
              "    <tr>\n",
              "      <th>1994-01-11</th>\n",
              "      <td>474.13</td>\n",
              "      <td>2228.10</td>\n",
              "      <td>3413.77</td>\n",
              "      <td>18485.25</td>\n",
              "    </tr>\n",
              "    <tr>\n",
              "      <th>1994-01-12</th>\n",
              "      <td>474.17</td>\n",
              "      <td>2182.06</td>\n",
              "      <td>3372.02</td>\n",
              "      <td>18793.88</td>\n",
              "    </tr>\n",
              "    <tr>\n",
              "      <th>1994-01-13</th>\n",
              "      <td>472.47</td>\n",
              "      <td>2142.37</td>\n",
              "      <td>3360.01</td>\n",
              "      <td>18577.26</td>\n",
              "    </tr>\n",
              "  </tbody>\n",
              "</table>\n",
              "</div>\n",
              "    <div class=\"colab-df-buttons\">\n",
              "\n",
              "  <div class=\"colab-df-container\">\n",
              "    <button class=\"colab-df-convert\" onclick=\"convertToInteractive('df-6cb3a558-2380-4bd7-9eca-05f285fdd501')\"\n",
              "            title=\"Convert this dataframe to an interactive table.\"\n",
              "            style=\"display:none;\">\n",
              "\n",
              "  <svg xmlns=\"http://www.w3.org/2000/svg\" height=\"24px\" viewBox=\"0 -960 960 960\">\n",
              "    <path d=\"M120-120v-720h720v720H120Zm60-500h600v-160H180v160Zm220 220h160v-160H400v160Zm0 220h160v-160H400v160ZM180-400h160v-160H180v160Zm440 0h160v-160H620v160ZM180-180h160v-160H180v160Zm440 0h160v-160H620v160Z\"/>\n",
              "  </svg>\n",
              "    </button>\n",
              "\n",
              "  <style>\n",
              "    .colab-df-container {\n",
              "      display:flex;\n",
              "      gap: 12px;\n",
              "    }\n",
              "\n",
              "    .colab-df-convert {\n",
              "      background-color: #E8F0FE;\n",
              "      border: none;\n",
              "      border-radius: 50%;\n",
              "      cursor: pointer;\n",
              "      display: none;\n",
              "      fill: #1967D2;\n",
              "      height: 32px;\n",
              "      padding: 0 0 0 0;\n",
              "      width: 32px;\n",
              "    }\n",
              "\n",
              "    .colab-df-convert:hover {\n",
              "      background-color: #E2EBFA;\n",
              "      box-shadow: 0px 1px 2px rgba(60, 64, 67, 0.3), 0px 1px 3px 1px rgba(60, 64, 67, 0.15);\n",
              "      fill: #174EA6;\n",
              "    }\n",
              "\n",
              "    .colab-df-buttons div {\n",
              "      margin-bottom: 4px;\n",
              "    }\n",
              "\n",
              "    [theme=dark] .colab-df-convert {\n",
              "      background-color: #3B4455;\n",
              "      fill: #D2E3FC;\n",
              "    }\n",
              "\n",
              "    [theme=dark] .colab-df-convert:hover {\n",
              "      background-color: #434B5C;\n",
              "      box-shadow: 0px 1px 3px 1px rgba(0, 0, 0, 0.15);\n",
              "      filter: drop-shadow(0px 1px 2px rgba(0, 0, 0, 0.3));\n",
              "      fill: #FFFFFF;\n",
              "    }\n",
              "  </style>\n",
              "\n",
              "    <script>\n",
              "      const buttonEl =\n",
              "        document.querySelector('#df-6cb3a558-2380-4bd7-9eca-05f285fdd501 button.colab-df-convert');\n",
              "      buttonEl.style.display =\n",
              "        google.colab.kernel.accessAllowed ? 'block' : 'none';\n",
              "\n",
              "      async function convertToInteractive(key) {\n",
              "        const element = document.querySelector('#df-6cb3a558-2380-4bd7-9eca-05f285fdd501');\n",
              "        const dataTable =\n",
              "          await google.colab.kernel.invokeFunction('convertToInteractive',\n",
              "                                                    [key], {});\n",
              "        if (!dataTable) return;\n",
              "\n",
              "        const docLinkHtml = 'Like what you see? Visit the ' +\n",
              "          '<a target=\"_blank\" href=https://colab.research.google.com/notebooks/data_table.ipynb>data table notebook</a>'\n",
              "          + ' to learn more about interactive tables.';\n",
              "        element.innerHTML = '';\n",
              "        dataTable['output_type'] = 'display_data';\n",
              "        await google.colab.output.renderOutput(dataTable, element);\n",
              "        const docLink = document.createElement('div');\n",
              "        docLink.innerHTML = docLinkHtml;\n",
              "        element.appendChild(docLink);\n",
              "      }\n",
              "    </script>\n",
              "  </div>\n",
              "\n",
              "\n",
              "<div id=\"df-41afd46d-977d-464c-a35c-05624c5fe68b\">\n",
              "  <button class=\"colab-df-quickchart\" onclick=\"quickchart('df-41afd46d-977d-464c-a35c-05624c5fe68b')\"\n",
              "            title=\"Suggest charts.\"\n",
              "            style=\"display:none;\">\n",
              "\n",
              "<svg xmlns=\"http://www.w3.org/2000/svg\" height=\"24px\"viewBox=\"0 0 24 24\"\n",
              "     width=\"24px\">\n",
              "    <g>\n",
              "        <path d=\"M19 3H5c-1.1 0-2 .9-2 2v14c0 1.1.9 2 2 2h14c1.1 0 2-.9 2-2V5c0-1.1-.9-2-2-2zM9 17H7v-7h2v7zm4 0h-2V7h2v10zm4 0h-2v-4h2v4z\"/>\n",
              "    </g>\n",
              "</svg>\n",
              "  </button>\n",
              "\n",
              "<style>\n",
              "  .colab-df-quickchart {\n",
              "      --bg-color: #E8F0FE;\n",
              "      --fill-color: #1967D2;\n",
              "      --hover-bg-color: #E2EBFA;\n",
              "      --hover-fill-color: #174EA6;\n",
              "      --disabled-fill-color: #AAA;\n",
              "      --disabled-bg-color: #DDD;\n",
              "  }\n",
              "\n",
              "  [theme=dark] .colab-df-quickchart {\n",
              "      --bg-color: #3B4455;\n",
              "      --fill-color: #D2E3FC;\n",
              "      --hover-bg-color: #434B5C;\n",
              "      --hover-fill-color: #FFFFFF;\n",
              "      --disabled-bg-color: #3B4455;\n",
              "      --disabled-fill-color: #666;\n",
              "  }\n",
              "\n",
              "  .colab-df-quickchart {\n",
              "    background-color: var(--bg-color);\n",
              "    border: none;\n",
              "    border-radius: 50%;\n",
              "    cursor: pointer;\n",
              "    display: none;\n",
              "    fill: var(--fill-color);\n",
              "    height: 32px;\n",
              "    padding: 0;\n",
              "    width: 32px;\n",
              "  }\n",
              "\n",
              "  .colab-df-quickchart:hover {\n",
              "    background-color: var(--hover-bg-color);\n",
              "    box-shadow: 0 1px 2px rgba(60, 64, 67, 0.3), 0 1px 3px 1px rgba(60, 64, 67, 0.15);\n",
              "    fill: var(--button-hover-fill-color);\n",
              "  }\n",
              "\n",
              "  .colab-df-quickchart-complete:disabled,\n",
              "  .colab-df-quickchart-complete:disabled:hover {\n",
              "    background-color: var(--disabled-bg-color);\n",
              "    fill: var(--disabled-fill-color);\n",
              "    box-shadow: none;\n",
              "  }\n",
              "\n",
              "  .colab-df-spinner {\n",
              "    border: 2px solid var(--fill-color);\n",
              "    border-color: transparent;\n",
              "    border-bottom-color: var(--fill-color);\n",
              "    animation:\n",
              "      spin 1s steps(1) infinite;\n",
              "  }\n",
              "\n",
              "  @keyframes spin {\n",
              "    0% {\n",
              "      border-color: transparent;\n",
              "      border-bottom-color: var(--fill-color);\n",
              "      border-left-color: var(--fill-color);\n",
              "    }\n",
              "    20% {\n",
              "      border-color: transparent;\n",
              "      border-left-color: var(--fill-color);\n",
              "      border-top-color: var(--fill-color);\n",
              "    }\n",
              "    30% {\n",
              "      border-color: transparent;\n",
              "      border-left-color: var(--fill-color);\n",
              "      border-top-color: var(--fill-color);\n",
              "      border-right-color: var(--fill-color);\n",
              "    }\n",
              "    40% {\n",
              "      border-color: transparent;\n",
              "      border-right-color: var(--fill-color);\n",
              "      border-top-color: var(--fill-color);\n",
              "    }\n",
              "    60% {\n",
              "      border-color: transparent;\n",
              "      border-right-color: var(--fill-color);\n",
              "    }\n",
              "    80% {\n",
              "      border-color: transparent;\n",
              "      border-right-color: var(--fill-color);\n",
              "      border-bottom-color: var(--fill-color);\n",
              "    }\n",
              "    90% {\n",
              "      border-color: transparent;\n",
              "      border-bottom-color: var(--fill-color);\n",
              "    }\n",
              "  }\n",
              "</style>\n",
              "\n",
              "  <script>\n",
              "    async function quickchart(key) {\n",
              "      const quickchartButtonEl =\n",
              "        document.querySelector('#' + key + ' button');\n",
              "      quickchartButtonEl.disabled = true;  // To prevent multiple clicks.\n",
              "      quickchartButtonEl.classList.add('colab-df-spinner');\n",
              "      try {\n",
              "        const charts = await google.colab.kernel.invokeFunction(\n",
              "            'suggestCharts', [key], {});\n",
              "      } catch (error) {\n",
              "        console.error('Error during call to suggestCharts:', error);\n",
              "      }\n",
              "      quickchartButtonEl.classList.remove('colab-df-spinner');\n",
              "      quickchartButtonEl.classList.add('colab-df-quickchart-complete');\n",
              "    }\n",
              "    (() => {\n",
              "      let quickchartButtonEl =\n",
              "        document.querySelector('#df-41afd46d-977d-464c-a35c-05624c5fe68b button');\n",
              "      quickchartButtonEl.style.display =\n",
              "        google.colab.kernel.accessAllowed ? 'block' : 'none';\n",
              "    })();\n",
              "  </script>\n",
              "</div>\n",
              "    </div>\n",
              "  </div>\n"
            ]
          },
          "metadata": {},
          "execution_count": 46
        }
      ]
    },
    {
      "cell_type": "code",
      "source": [
        "df_comp['market_value']=df_comp.ftse"
      ],
      "metadata": {
        "id": "vePVpTGMzxnt"
      },
      "execution_count": null,
      "outputs": []
    },
    {
      "cell_type": "code",
      "source": [
        "del df_comp['spx']\n",
        "del df_comp['dax']\n",
        "del df_comp['ftse']\n",
        "del df_comp['nikkei']\n",
        "size = int(len(df_comp)*0.8)\n",
        "df, df_test = df_comp.iloc[:size], df_comp.iloc[size:]"
      ],
      "metadata": {
        "id": "PNb1pS8Rz00N"
      },
      "execution_count": null,
      "outputs": []
    },
    {
      "cell_type": "markdown",
      "source": [
        "#LLR Test"
      ],
      "metadata": {
        "id": "hoHBKSscICuE"
      }
    },
    {
      "cell_type": "markdown",
      "source": [
        "La prueba de razón de verosimilitud es una prueba estadística utilizada para comparar la bondad de ajuste de dos modelos anidados, donde uno de los modelos es una versión restringida del otro. Se basa en la función de verosimilitud, que mide la probabilidad de observar los datos dados los parámetros del modelo."
      ],
      "metadata": {
        "id": "CPbWpCSMIFu3"
      }
    },
    {
      "cell_type": "code",
      "source": [
        "def LLR_test(mod_1, mod_2, DF=1): #Calcular la verosimilitud de los dos modelos\n",
        "    L1 = mod_1.fit().llf  #En este caso, el código utiliza la función .llf()\n",
        "                          #para extraer el valor de la verosimilitud\n",
        "    L2 = mod_2.fit().llf\n",
        "    LR = (2*(L2-L1))      #Se calcula la razón de verosimilitudes.\n",
        "    p = chi2.sf(LR, DF).round(3)\n",
        "    return p"
      ],
      "metadata": {
        "id": "2HDAANO6z3zv"
      },
      "execution_count": null,
      "outputs": []
    },
    {
      "cell_type": "markdown",
      "source": [
        "#The DF Test"
      ],
      "metadata": {
        "id": "boEvflJg1tnp"
      }
    },
    {
      "cell_type": "markdown",
      "source": [
        "La prueba Dickey-Fuller es una prueba estadística utilizada para determinar si una serie temporal tiene una raíz unitaria, lo que indica no estacionariedad. Se suele utilizar para comprobar la presencia de una tendencia en los datos económicos y financieros.\n",
        "\n",
        "La prueba se basa en el modelo autorregresivo (AR), concretamente en el modelo AR(1), y compara el coeficiente estimado de la variable dependiente retardada con un valor crítico. La hipótesis nula de la prueba es que el coeficiente es igual a 1, lo que indica la presencia de una raíz unitaria."
      ],
      "metadata": {
        "id": "zP_XlDioCrb3"
      }
    },
    {
      "cell_type": "code",
      "source": [
        "sts.adfuller(df.market_value) #La función sts.adfuller() de la biblioteca statsmodels implementa la prueba de Dickey-Fuller aumentada."
      ],
      "metadata": {
        "colab": {
          "base_uri": "https://localhost:8080/"
        },
        "id": "bIzWVAr3z6Vf",
        "outputId": "70943ac1-a652-4da3-9c63-50fe12979b5c"
      },
      "execution_count": null,
      "outputs": [
        {
          "output_type": "execute_result",
          "data": {
            "text/plain": [
              "(-1.6800956579309974,\n",
              " 0.44139586545411175,\n",
              " 6,\n",
              " 6203,\n",
              " {'1%': -3.4314046522931423,\n",
              "  '5%': -2.8620060621656562,\n",
              "  '10%': -2.567018082032145},\n",
              " 67783.9683612964)"
            ]
          },
          "metadata": {},
          "execution_count": 50
        }
      ]
    },
    {
      "cell_type": "markdown",
      "source": [
        "#Using returns"
      ],
      "metadata": {
        "id": "jpZdNKVb1jAH"
      }
    },
    {
      "cell_type": "code",
      "source": [
        "#Cálculo de los rendimientos porcentuales de un conjunto de datos de precios de acciones.\n",
        "df['returns'] = df.market_value.pct_change(1).mul(100)  #Creación de la columna 'returns' que\n",
        "#contiene el cambio porcentual en la columna market_value, de una fila a la siguiente.\n",
        "df = df.iloc[1:] #por motivos de cálculo, se elimina la primera fila."
      ],
      "metadata": {
        "colab": {
          "base_uri": "https://localhost:8080/"
        },
        "id": "tNU2Kk6F1hld",
        "outputId": "455daca8-2afd-442e-ec19-f7b0a3805b91"
      },
      "execution_count": null,
      "outputs": [
        {
          "output_type": "stream",
          "name": "stderr",
          "text": [
            "<ipython-input-51-fca9bc180084>:1: SettingWithCopyWarning: \n",
            "A value is trying to be set on a copy of a slice from a DataFrame.\n",
            "Try using .loc[row_indexer,col_indexer] = value instead\n",
            "\n",
            "See the caveats in the documentation: https://pandas.pydata.org/pandas-docs/stable/user_guide/indexing.html#returning-a-view-versus-a-copy\n",
            "  df['returns'] = df.market_value.pct_change(1).mul(100)\n"
          ]
        }
      ]
    },
    {
      "cell_type": "code",
      "source": [
        "sts.adfuller(df.returns) #La función sts.adfuller() de la biblioteca statsmodels implementa la prueba de Dickey-Fuller aumentada."
      ],
      "metadata": {
        "colab": {
          "base_uri": "https://localhost:8080/"
        },
        "id": "0SqdNbuY13mt",
        "outputId": "76fe32d0-7769-4a19-b0c4-aa8648b6c48a"
      },
      "execution_count": null,
      "outputs": [
        {
          "output_type": "execute_result",
          "data": {
            "text/plain": [
              "(-15.03075825359335,\n",
              " 9.910907283617189e-28,\n",
              " 34,\n",
              " 6174,\n",
              " {'1%': -3.431409608180226,\n",
              "  '5%': -2.8620082518350323,\n",
              "  '10%': -2.5670192476469817},\n",
              " 18877.354625709057)"
            ]
          },
          "metadata": {},
          "execution_count": 52
        }
      ]
    },
    {
      "cell_type": "markdown",
      "source": [
        "#ACF and PACF for Returns"
      ],
      "metadata": {
        "id": "_mWm4YLe1-S8"
      }
    },
    {
      "cell_type": "markdown",
      "source": [],
      "metadata": {
        "id": "DcwMYo7xTvJ7"
      }
    },
    {
      "cell_type": "code",
      "source": [
        "sgt.plot_acf(df.returns, lags=40, zero = False) #Se implementa la función de autocorrelación,\n",
        "# de la serie temporal rendimientos de acciones\n",
        "plt.title(\"ACF FTSE Returns\", size=24)\n",
        "plt.show()"
      ],
      "metadata": {
        "colab": {
          "base_uri": "https://localhost:8080/",
          "height": 469
        },
        "id": "r4JDmQOm1_v6",
        "outputId": "e1d5780f-f4df-44cb-a77b-f0511043d078"
      },
      "execution_count": null,
      "outputs": [
        {
          "output_type": "display_data",
          "data": {
            "text/plain": [
              "<Figure size 640x480 with 1 Axes>"
            ],
            "image/png": "[encoded data removed]"
          },
          "metadata": {}
        }
      ]
    },
    {
      "cell_type": "code",
      "source": [
        "sgt.plot_pacf(df.returns, lags = 40, zero = False, method = ('ols'))\n",
        "plt.title(\"PACF FTSE Returns\", size=24)\n",
        "plt.show()"
      ],
      "metadata": {
        "colab": {
          "base_uri": "https://localhost:8080/",
          "height": 469
        },
        "id": "r08Gp_L22Sxj",
        "outputId": "e516e905-f8fe-4316-d502-f99ad8c3ffe7"
      },
      "execution_count": null,
      "outputs": [
        {
          "output_type": "display_data",
          "data": {
            "text/plain": [
              "<Figure size 640x480 with 1 Axes>"
            ],
            "image/png": "[encoded data removed]"
          },
          "metadata": {}
        }
      ]
    },
    {
      "cell_type": "markdown",
      "source": [
        "#AR(1) for Returns"
      ],
      "metadata": {
        "id": "0gf12_ke3VT9"
      }
    },
    {
      "cell_type": "code",
      "source": [
        "model_ret_ar_1 = ARIMA(df.returns, order=(1,0, 0))"
      ],
      "metadata": {
        "id": "-Dn4D901_19h"
      },
      "execution_count": null,
      "outputs": []
    },
    {
      "cell_type": "code",
      "source": [
        "results_ret_ar_1 = model_ret_ar_1.fit()"
      ],
      "metadata": {
        "id": "4UKQXu-X5JTi"
      },
      "execution_count": null,
      "outputs": []
    },
    {
      "cell_type": "code",
      "source": [
        "results_ret_ar_1.summary()"
      ],
      "metadata": {
        "colab": {
          "base_uri": "https://localhost:8080/",
          "height": 430
        },
        "id": "CsEesYWl5Mda",
        "outputId": "39267375-3842-4c88-9866-0bf41a5aa4c2"
      },
      "execution_count": null,
      "outputs": [
        {
          "output_type": "execute_result",
          "data": {
            "text/plain": [
              "<class 'statsmodels.iolib.summary.Summary'>\n",
              "\"\"\"\n",
              "                               SARIMAX Results                                \n",
              "==============================================================================\n",
              "Dep. Variable:                returns   No. Observations:                 6209\n",
              "Model:                 ARIMA(1, 0, 0)   Log Likelihood               -9522.656\n",
              "Date:                Sat, 14 Oct 2023   AIC                          19051.312\n",
              "Time:                        21:07:47   BIC                          19071.513\n",
              "Sample:                    01-10-1994   HQIC                         19058.315\n",
              "                         - 10-26-2017                                         \n",
              "Covariance Type:                  opg                                         \n",
              "==============================================================================\n",
              "                 coef    std err          z      P>|z|      [0.025      0.975]\n",
              "------------------------------------------------------------------------------\n",
              "const          0.0188      0.014      1.326      0.185      -0.009       0.047\n",
              "ar.L1         -0.0176      0.008     -2.331      0.020      -0.032      -0.003\n",
              "sigma2         1.2580      0.011    112.269      0.000       1.236       1.280\n",
              "===================================================================================\n",
              "Ljung-Box (L1) (Q):                   0.00   Jarque-Bera (JB):             10186.08\n",
              "Prob(Q):                              0.95   Prob(JB):                         0.00\n",
              "Heteroskedasticity (H):               0.87   Skew:                            -0.04\n",
              "Prob(H) (two-sided):                  0.00   Kurtosis:                         9.27\n",
              "===================================================================================\n",
              "\n",
              "Warnings:\n",
              "[1] Covariance matrix calculated using the outer product of gradients (complex-step).\n",
              "\"\"\""
            ],
            "text/html": [
              "<table class=\"simpletable\">\n",
              "<caption>SARIMAX Results</caption>\n",
              "<tr>\n",
              "  <th>Dep. Variable:</th>        <td>returns</td>     <th>  No. Observations:  </th>   <td>6209</td>   \n",
              "</tr>\n",
              "<tr>\n",
              "  <th>Model:</th>            <td>ARIMA(1, 0, 0)</td>  <th>  Log Likelihood     </th> <td>-9522.656</td>\n",
              "</tr>\n",
              "<tr>\n",
              "  <th>Date:</th>            <td>Sat, 14 Oct 2023</td> <th>  AIC                </th> <td>19051.312</td>\n",
              "</tr>\n",
              "<tr>\n",
              "  <th>Time:</th>                <td>21:07:47</td>     <th>  BIC                </th> <td>19071.513</td>\n",
              "</tr>\n",
              "<tr>\n",
              "  <th>Sample:</th>             <td>01-10-1994</td>    <th>  HQIC               </th> <td>19058.315</td>\n",
              "</tr>\n",
              "<tr>\n",
              "  <th></th>                   <td>- 10-26-2017</td>   <th>                     </th>     <td> </td>    \n",
              "</tr>\n",
              "<tr>\n",
              "  <th>Covariance Type:</th>        <td>opg</td>       <th>                     </th>     <td> </td>    \n",
              "</tr>\n",
              "</table>\n",
              "<table class=\"simpletable\">\n",
              "<tr>\n",
              "     <td></td>       <th>coef</th>     <th>std err</th>      <th>z</th>      <th>P>|z|</th>  <th>[0.025</th>    <th>0.975]</th>  \n",
              "</tr>\n",
              "<tr>\n",
              "  <th>const</th>  <td>    0.0188</td> <td>    0.014</td> <td>    1.326</td> <td> 0.185</td> <td>   -0.009</td> <td>    0.047</td>\n",
              "</tr>\n",
              "<tr>\n",
              "  <th>ar.L1</th>  <td>   -0.0176</td> <td>    0.008</td> <td>   -2.331</td> <td> 0.020</td> <td>   -0.032</td> <td>   -0.003</td>\n",
              "</tr>\n",
              "<tr>\n",
              "  <th>sigma2</th> <td>    1.2580</td> <td>    0.011</td> <td>  112.269</td> <td> 0.000</td> <td>    1.236</td> <td>    1.280</td>\n",
              "</tr>\n",
              "</table>\n",
              "<table class=\"simpletable\">\n",
              "<tr>\n",
              "  <th>Ljung-Box (L1) (Q):</th>     <td>0.00</td> <th>  Jarque-Bera (JB):  </th> <td>10186.08</td>\n",
              "</tr>\n",
              "<tr>\n",
              "  <th>Prob(Q):</th>                <td>0.95</td> <th>  Prob(JB):          </th>   <td>0.00</td>  \n",
              "</tr>\n",
              "<tr>\n",
              "  <th>Heteroskedasticity (H):</th> <td>0.87</td> <th>  Skew:              </th>   <td>-0.04</td> \n",
              "</tr>\n",
              "<tr>\n",
              "  <th>Prob(H) (two-sided):</th>    <td>0.00</td> <th>  Kurtosis:          </th>   <td>9.27</td>  \n",
              "</tr>\n",
              "</table><br/><br/>Warnings:<br/>[1] Covariance matrix calculated using the outer product of gradients (complex-step)."
            ],
            "text/latex": "\\begin{center}\n\\begin{tabular}{lclc}\n\\toprule\n\\textbf{Dep. Variable:}          &     returns      & \\textbf{  No. Observations:  } &    6209     \\\\\n\\textbf{Model:}                  &  ARIMA(1, 0, 0)  & \\textbf{  Log Likelihood     } & -9522.656   \\\\\n\\textbf{Date:}                   & Sat, 14 Oct 2023 & \\textbf{  AIC                } & 19051.312   \\\\\n\\textbf{Time:}                   &     21:07:47     & \\textbf{  BIC                } & 19071.513   \\\\\n\\textbf{Sample:}                 &    01-10-1994    & \\textbf{  HQIC               } & 19058.315   \\\\\n\\textbf{}                        &   - 10-26-2017   & \\textbf{                     } &             \\\\\n\\textbf{Covariance Type:}        &       opg        & \\textbf{                     } &             \\\\\n\\bottomrule\n\\end{tabular}\n\\begin{tabular}{lcccccc}\n                & \\textbf{coef} & \\textbf{std err} & \\textbf{z} & \\textbf{P$> |$z$|$} & \\textbf{[0.025} & \\textbf{0.975]}  \\\\\n\\midrule\n\\textbf{const}  &       0.0188  &        0.014     &     1.326  &         0.185        &       -0.009    &        0.047     \\\\\n\\textbf{ar.L1}  &      -0.0176  &        0.008     &    -2.331  &         0.020        &       -0.032    &       -0.003     \\\\\n\\textbf{sigma2} &       1.2580  &        0.011     &   112.269  &         0.000        &        1.236    &        1.280     \\\\\n\\bottomrule\n\\end{tabular}\n\\begin{tabular}{lclc}\n\\textbf{Ljung-Box (L1) (Q):}     & 0.00 & \\textbf{  Jarque-Bera (JB):  } & 10186.08  \\\\\n\\textbf{Prob(Q):}                & 0.95 & \\textbf{  Prob(JB):          } &   0.00    \\\\\n\\textbf{Heteroskedasticity (H):} & 0.87 & \\textbf{  Skew:              } &  -0.04    \\\\\n\\textbf{Prob(H) (two-sided):}    & 0.00 & \\textbf{  Kurtosis:          } &   9.27    \\\\\n\\bottomrule\n\\end{tabular}\n%\\caption{SARIMAX Results}\n\\end{center}\n\nWarnings: \\newline\n [1] Covariance matrix calculated using the outer product of gradients (complex-step)."
          },
          "metadata": {},
          "execution_count": 63
        }
      ]
    },
    {
      "cell_type": "markdown",
      "source": [
        "#Higher-Lag AR Models for Returns"
      ],
      "metadata": {
        "id": "h1uVdBlJBFqQ"
      }
    },
    {
      "cell_type": "code",
      "source": [
        "model_ret_ar_2 = ARIMA(df.returns, order = (2,0,0))\n",
        "results_ret_ar_2 = model_ret_ar_2.fit()\n",
        "results_ret_ar_2.summary()"
      ],
      "metadata": {
        "colab": {
          "base_uri": "https://localhost:8080/",
          "height": 451
        },
        "id": "n2wEIiYlBFMf",
        "outputId": "069da527-0783-481c-dfd3-4ee529eb9377"
      },
      "execution_count": null,
      "outputs": [
        {
          "output_type": "execute_result",
          "data": {
            "text/plain": [
              "<class 'statsmodels.iolib.summary.Summary'>\n",
              "\"\"\"\n",
              "                               SARIMAX Results                                \n",
              "==============================================================================\n",
              "Dep. Variable:                returns   No. Observations:                 6209\n",
              "Model:                 ARIMA(2, 0, 0)   Log Likelihood               -9515.361\n",
              "Date:                Sat, 14 Oct 2023   AIC                          19038.722\n",
              "Time:                        21:08:21   BIC                          19065.657\n",
              "Sample:                    01-10-1994   HQIC                         19048.059\n",
              "                         - 10-26-2017                                         \n",
              "Covariance Type:                  opg                                         \n",
              "==============================================================================\n",
              "                 coef    std err          z      P>|z|      [0.025      0.975]\n",
              "------------------------------------------------------------------------------\n",
              "const          0.0188      0.014      1.381      0.167      -0.008       0.045\n",
              "ar.L1         -0.0185      0.008     -2.416      0.016      -0.033      -0.003\n",
              "ar.L2         -0.0484      0.007     -6.909      0.000      -0.062      -0.035\n",
              "sigma2         1.2550      0.011    111.737      0.000       1.233       1.277\n",
              "===================================================================================\n",
              "Ljung-Box (L1) (Q):                   0.07   Jarque-Bera (JB):             10014.84\n",
              "Prob(Q):                              0.80   Prob(JB):                         0.00\n",
              "Heteroskedasticity (H):               0.87   Skew:                            -0.07\n",
              "Prob(H) (two-sided):                  0.00   Kurtosis:                         9.22\n",
              "===================================================================================\n",
              "\n",
              "Warnings:\n",
              "[1] Covariance matrix calculated using the outer product of gradients (complex-step).\n",
              "\"\"\""
            ],
            "text/html": [
              "<table class=\"simpletable\">\n",
              "<caption>SARIMAX Results</caption>\n",
              "<tr>\n",
              "  <th>Dep. Variable:</th>        <td>returns</td>     <th>  No. Observations:  </th>   <td>6209</td>   \n",
              "</tr>\n",
              "<tr>\n",
              "  <th>Model:</th>            <td>ARIMA(2, 0, 0)</td>  <th>  Log Likelihood     </th> <td>-9515.361</td>\n",
              "</tr>\n",
              "<tr>\n",
              "  <th>Date:</th>            <td>Sat, 14 Oct 2023</td> <th>  AIC                </th> <td>19038.722</td>\n",
              "</tr>\n",
              "<tr>\n",
              "  <th>Time:</th>                <td>21:08:21</td>     <th>  BIC                </th> <td>19065.657</td>\n",
              "</tr>\n",
              "<tr>\n",
              "  <th>Sample:</th>             <td>01-10-1994</td>    <th>  HQIC               </th> <td>19048.059</td>\n",
              "</tr>\n",
              "<tr>\n",
              "  <th></th>                   <td>- 10-26-2017</td>   <th>                     </th>     <td> </td>    \n",
              "</tr>\n",
              "<tr>\n",
              "  <th>Covariance Type:</th>        <td>opg</td>       <th>                     </th>     <td> </td>    \n",
              "</tr>\n",
              "</table>\n",
              "<table class=\"simpletable\">\n",
              "<tr>\n",
              "     <td></td>       <th>coef</th>     <th>std err</th>      <th>z</th>      <th>P>|z|</th>  <th>[0.025</th>    <th>0.975]</th>  \n",
              "</tr>\n",
              "<tr>\n",
              "  <th>const</th>  <td>    0.0188</td> <td>    0.014</td> <td>    1.381</td> <td> 0.167</td> <td>   -0.008</td> <td>    0.045</td>\n",
              "</tr>\n",
              "<tr>\n",
              "  <th>ar.L1</th>  <td>   -0.0185</td> <td>    0.008</td> <td>   -2.416</td> <td> 0.016</td> <td>   -0.033</td> <td>   -0.003</td>\n",
              "</tr>\n",
              "<tr>\n",
              "  <th>ar.L2</th>  <td>   -0.0484</td> <td>    0.007</td> <td>   -6.909</td> <td> 0.000</td> <td>   -0.062</td> <td>   -0.035</td>\n",
              "</tr>\n",
              "<tr>\n",
              "  <th>sigma2</th> <td>    1.2550</td> <td>    0.011</td> <td>  111.737</td> <td> 0.000</td> <td>    1.233</td> <td>    1.277</td>\n",
              "</tr>\n",
              "</table>\n",
              "<table class=\"simpletable\">\n",
              "<tr>\n",
              "  <th>Ljung-Box (L1) (Q):</th>     <td>0.07</td> <th>  Jarque-Bera (JB):  </th> <td>10014.84</td>\n",
              "</tr>\n",
              "<tr>\n",
              "  <th>Prob(Q):</th>                <td>0.80</td> <th>  Prob(JB):          </th>   <td>0.00</td>  \n",
              "</tr>\n",
              "<tr>\n",
              "  <th>Heteroskedasticity (H):</th> <td>0.87</td> <th>  Skew:              </th>   <td>-0.07</td> \n",
              "</tr>\n",
              "<tr>\n",
              "  <th>Prob(H) (two-sided):</th>    <td>0.00</td> <th>  Kurtosis:          </th>   <td>9.22</td>  \n",
              "</tr>\n",
              "</table><br/><br/>Warnings:<br/>[1] Covariance matrix calculated using the outer product of gradients (complex-step)."
            ],
            "text/latex": "\\begin{center}\n\\begin{tabular}{lclc}\n\\toprule\n\\textbf{Dep. Variable:}          &     returns      & \\textbf{  No. Observations:  } &    6209     \\\\\n\\textbf{Model:}                  &  ARIMA(2, 0, 0)  & \\textbf{  Log Likelihood     } & -9515.361   \\\\\n\\textbf{Date:}                   & Sat, 14 Oct 2023 & \\textbf{  AIC                } & 19038.722   \\\\\n\\textbf{Time:}                   &     21:08:21     & \\textbf{  BIC                } & 19065.657   \\\\\n\\textbf{Sample:}                 &    01-10-1994    & \\textbf{  HQIC               } & 19048.059   \\\\\n\\textbf{}                        &   - 10-26-2017   & \\textbf{                     } &             \\\\\n\\textbf{Covariance Type:}        &       opg        & \\textbf{                     } &             \\\\\n\\bottomrule\n\\end{tabular}\n\\begin{tabular}{lcccccc}\n                & \\textbf{coef} & \\textbf{std err} & \\textbf{z} & \\textbf{P$> |$z$|$} & \\textbf{[0.025} & \\textbf{0.975]}  \\\\\n\\midrule\n\\textbf{const}  &       0.0188  &        0.014     &     1.381  &         0.167        &       -0.008    &        0.045     \\\\\n\\textbf{ar.L1}  &      -0.0185  &        0.008     &    -2.416  &         0.016        &       -0.033    &       -0.003     \\\\\n\\textbf{ar.L2}  &      -0.0484  &        0.007     &    -6.909  &         0.000        &       -0.062    &       -0.035     \\\\\n\\textbf{sigma2} &       1.2550  &        0.011     &   111.737  &         0.000        &        1.233    &        1.277     \\\\\n\\bottomrule\n\\end{tabular}\n\\begin{tabular}{lclc}\n\\textbf{Ljung-Box (L1) (Q):}     & 0.07 & \\textbf{  Jarque-Bera (JB):  } & 10014.84  \\\\\n\\textbf{Prob(Q):}                & 0.80 & \\textbf{  Prob(JB):          } &   0.00    \\\\\n\\textbf{Heteroskedasticity (H):} & 0.87 & \\textbf{  Skew:              } &  -0.07    \\\\\n\\textbf{Prob(H) (two-sided):}    & 0.00 & \\textbf{  Kurtosis:          } &   9.22    \\\\\n\\bottomrule\n\\end{tabular}\n%\\caption{SARIMAX Results}\n\\end{center}\n\nWarnings: \\newline\n [1] Covariance matrix calculated using the outer product of gradients (complex-step)."
          },
          "metadata": {},
          "execution_count": 65
        }
      ]
    },
    {
      "cell_type": "code",
      "source": [
        "LLR_test(model_ret_ar_1, model_ret_ar_2)"
      ],
      "metadata": {
        "colab": {
          "base_uri": "https://localhost:8080/"
        },
        "id": "4sx7HKSMBN1M",
        "outputId": "44f217c8-e8e1-4ac2-9c71-942f675de53b"
      },
      "execution_count": null,
      "outputs": [
        {
          "output_type": "execute_result",
          "data": {
            "text/plain": [
              "0.0"
            ]
          },
          "metadata": {},
          "execution_count": 66
        }
      ]
    },
    {
      "cell_type": "code",
      "source": [
        "model_ret_ar_3 = ARIMA(df.returns, order = (3,0,0))\n",
        "results_ret_ar_3 = model_ret_ar_3.fit()\n",
        "results_ret_ar_3.summary()"
      ],
      "metadata": {
        "colab": {
          "base_uri": "https://localhost:8080/",
          "height": 473
        },
        "id": "Qk7YMsyDBS1U",
        "outputId": "63de1c25-2763-4659-c5bf-aba70589d283"
      },
      "execution_count": null,
      "outputs": [
        {
          "output_type": "execute_result",
          "data": {
            "text/plain": [
              "<class 'statsmodels.iolib.summary.Summary'>\n",
              "\"\"\"\n",
              "                               SARIMAX Results                                \n",
              "==============================================================================\n",
              "Dep. Variable:                returns   No. Observations:                 6209\n",
              "Model:                 ARIMA(3, 0, 0)   Log Likelihood               -9501.148\n",
              "Date:                Sat, 14 Oct 2023   AIC                          19012.297\n",
              "Time:                        21:09:01   BIC                          19045.966\n",
              "Sample:                    01-10-1994   HQIC                         19023.969\n",
              "                         - 10-26-2017                                         \n",
              "Covariance Type:                  opg                                         \n",
              "==============================================================================\n",
              "                 coef    std err          z      P>|z|      [0.025      0.975]\n",
              "------------------------------------------------------------------------------\n",
              "const          0.0188      0.013      1.447      0.148      -0.007       0.044\n",
              "ar.L1         -0.0218      0.008     -2.791      0.005      -0.037      -0.006\n",
              "ar.L2         -0.0497      0.007     -7.128      0.000      -0.063      -0.036\n",
              "ar.L3         -0.0676      0.007     -9.498      0.000      -0.082      -0.054\n",
              "sigma2         1.2493      0.012    106.438      0.000       1.226       1.272\n",
              "===================================================================================\n",
              "Ljung-Box (L1) (Q):                   0.03   Jarque-Bera (JB):              9058.93\n",
              "Prob(Q):                              0.87   Prob(JB):                         0.00\n",
              "Heteroskedasticity (H):               0.88   Skew:                            -0.14\n",
              "Prob(H) (two-sided):                  0.00   Kurtosis:                         8.91\n",
              "===================================================================================\n",
              "\n",
              "Warnings:\n",
              "[1] Covariance matrix calculated using the outer product of gradients (complex-step).\n",
              "\"\"\""
            ],
            "text/html": [
              "<table class=\"simpletable\">\n",
              "<caption>SARIMAX Results</caption>\n",
              "<tr>\n",
              "  <th>Dep. Variable:</th>        <td>returns</td>     <th>  No. Observations:  </th>   <td>6209</td>   \n",
              "</tr>\n",
              "<tr>\n",
              "  <th>Model:</th>            <td>ARIMA(3, 0, 0)</td>  <th>  Log Likelihood     </th> <td>-9501.148</td>\n",
              "</tr>\n",
              "<tr>\n",
              "  <th>Date:</th>            <td>Sat, 14 Oct 2023</td> <th>  AIC                </th> <td>19012.297</td>\n",
              "</tr>\n",
              "<tr>\n",
              "  <th>Time:</th>                <td>21:09:01</td>     <th>  BIC                </th> <td>19045.966</td>\n",
              "</tr>\n",
              "<tr>\n",
              "  <th>Sample:</th>             <td>01-10-1994</td>    <th>  HQIC               </th> <td>19023.969</td>\n",
              "</tr>\n",
              "<tr>\n",
              "  <th></th>                   <td>- 10-26-2017</td>   <th>                     </th>     <td> </td>    \n",
              "</tr>\n",
              "<tr>\n",
              "  <th>Covariance Type:</th>        <td>opg</td>       <th>                     </th>     <td> </td>    \n",
              "</tr>\n",
              "</table>\n",
              "<table class=\"simpletable\">\n",
              "<tr>\n",
              "     <td></td>       <th>coef</th>     <th>std err</th>      <th>z</th>      <th>P>|z|</th>  <th>[0.025</th>    <th>0.975]</th>  \n",
              "</tr>\n",
              "<tr>\n",
              "  <th>const</th>  <td>    0.0188</td> <td>    0.013</td> <td>    1.447</td> <td> 0.148</td> <td>   -0.007</td> <td>    0.044</td>\n",
              "</tr>\n",
              "<tr>\n",
              "  <th>ar.L1</th>  <td>   -0.0218</td> <td>    0.008</td> <td>   -2.791</td> <td> 0.005</td> <td>   -0.037</td> <td>   -0.006</td>\n",
              "</tr>\n",
              "<tr>\n",
              "  <th>ar.L2</th>  <td>   -0.0497</td> <td>    0.007</td> <td>   -7.128</td> <td> 0.000</td> <td>   -0.063</td> <td>   -0.036</td>\n",
              "</tr>\n",
              "<tr>\n",
              "  <th>ar.L3</th>  <td>   -0.0676</td> <td>    0.007</td> <td>   -9.498</td> <td> 0.000</td> <td>   -0.082</td> <td>   -0.054</td>\n",
              "</tr>\n",
              "<tr>\n",
              "  <th>sigma2</th> <td>    1.2493</td> <td>    0.012</td> <td>  106.438</td> <td> 0.000</td> <td>    1.226</td> <td>    1.272</td>\n",
              "</tr>\n",
              "</table>\n",
              "<table class=\"simpletable\">\n",
              "<tr>\n",
              "  <th>Ljung-Box (L1) (Q):</th>     <td>0.03</td> <th>  Jarque-Bera (JB):  </th> <td>9058.93</td>\n",
              "</tr>\n",
              "<tr>\n",
              "  <th>Prob(Q):</th>                <td>0.87</td> <th>  Prob(JB):          </th>  <td>0.00</td>  \n",
              "</tr>\n",
              "<tr>\n",
              "  <th>Heteroskedasticity (H):</th> <td>0.88</td> <th>  Skew:              </th>  <td>-0.14</td> \n",
              "</tr>\n",
              "<tr>\n",
              "  <th>Prob(H) (two-sided):</th>    <td>0.00</td> <th>  Kurtosis:          </th>  <td>8.91</td>  \n",
              "</tr>\n",
              "</table><br/><br/>Warnings:<br/>[1] Covariance matrix calculated using the outer product of gradients (complex-step)."
            ],
            "text/latex": "\\begin{center}\n\\begin{tabular}{lclc}\n\\toprule\n\\textbf{Dep. Variable:}          &     returns      & \\textbf{  No. Observations:  } &    6209     \\\\\n\\textbf{Model:}                  &  ARIMA(3, 0, 0)  & \\textbf{  Log Likelihood     } & -9501.148   \\\\\n\\textbf{Date:}                   & Sat, 14 Oct 2023 & \\textbf{  AIC                } & 19012.297   \\\\\n\\textbf{Time:}                   &     21:09:01     & \\textbf{  BIC                } & 19045.966   \\\\\n\\textbf{Sample:}                 &    01-10-1994    & \\textbf{  HQIC               } & 19023.969   \\\\\n\\textbf{}                        &   - 10-26-2017   & \\textbf{                     } &             \\\\\n\\textbf{Covariance Type:}        &       opg        & \\textbf{                     } &             \\\\\n\\bottomrule\n\\end{tabular}\n\\begin{tabular}{lcccccc}\n                & \\textbf{coef} & \\textbf{std err} & \\textbf{z} & \\textbf{P$> |$z$|$} & \\textbf{[0.025} & \\textbf{0.975]}  \\\\\n\\midrule\n\\textbf{const}  &       0.0188  &        0.013     &     1.447  &         0.148        &       -0.007    &        0.044     \\\\\n\\textbf{ar.L1}  &      -0.0218  &        0.008     &    -2.791  &         0.005        &       -0.037    &       -0.006     \\\\\n\\textbf{ar.L2}  &      -0.0497  &        0.007     &    -7.128  &         0.000        &       -0.063    &       -0.036     \\\\\n\\textbf{ar.L3}  &      -0.0676  &        0.007     &    -9.498  &         0.000        &       -0.082    &       -0.054     \\\\\n\\textbf{sigma2} &       1.2493  &        0.012     &   106.438  &         0.000        &        1.226    &        1.272     \\\\\n\\bottomrule\n\\end{tabular}\n\\begin{tabular}{lclc}\n\\textbf{Ljung-Box (L1) (Q):}     & 0.03 & \\textbf{  Jarque-Bera (JB):  } & 9058.93  \\\\\n\\textbf{Prob(Q):}                & 0.87 & \\textbf{  Prob(JB):          } &   0.00   \\\\\n\\textbf{Heteroskedasticity (H):} & 0.88 & \\textbf{  Skew:              } &  -0.14   \\\\\n\\textbf{Prob(H) (two-sided):}    & 0.00 & \\textbf{  Kurtosis:          } &   8.91   \\\\\n\\bottomrule\n\\end{tabular}\n%\\caption{SARIMAX Results}\n\\end{center}\n\nWarnings: \\newline\n [1] Covariance matrix calculated using the outer product of gradients (complex-step)."
          },
          "metadata": {},
          "execution_count": 68
        }
      ]
    },
    {
      "cell_type": "code",
      "source": [
        "LLR_test(model_ret_ar_2, model_ret_ar_3)"
      ],
      "metadata": {
        "colab": {
          "base_uri": "https://localhost:8080/"
        },
        "id": "Os-KZ8rjBZDI",
        "outputId": "f86b1b57-b106-4f3a-ec25-ce2585d989d0"
      },
      "execution_count": null,
      "outputs": [
        {
          "output_type": "execute_result",
          "data": {
            "text/plain": [
              "0.0"
            ]
          },
          "metadata": {},
          "execution_count": 69
        }
      ]
    },
    {
      "cell_type": "code",
      "source": [
        "model_ret_ar_4 = ARIMA(df.returns, order = (4,0,0))\n",
        "results_ret_ar_4 = model_ret_ar_4.fit()\n",
        "print(results_ret_ar_4.summary())\n",
        "print (\"LLR test: \" + str(LLR_test(model_ret_ar_3, model_ret_ar_4)))"
      ],
      "metadata": {
        "colab": {
          "base_uri": "https://localhost:8080/"
        },
        "id": "Ml_tpBbfBcMx",
        "outputId": "f1fbd683-6b26-45a3-c9e6-a05be3e53e82"
      },
      "execution_count": null,
      "outputs": [
        {
          "output_type": "stream",
          "name": "stdout",
          "text": [
            "                               SARIMAX Results                                \n",
            "==============================================================================\n",
            "Dep. Variable:                returns   No. Observations:                 6209\n",
            "Model:                 ARIMA(4, 0, 0)   Log Likelihood               -9498.313\n",
            "Date:                Sat, 14 Oct 2023   AIC                          19008.626\n",
            "Time:                        21:09:39   BIC                          19049.029\n",
            "Sample:                    01-10-1994   HQIC                         19022.633\n",
            "                         - 10-26-2017                                         \n",
            "Covariance Type:                  opg                                         \n",
            "==============================================================================\n",
            "                 coef    std err          z      P>|z|      [0.025      0.975]\n",
            "------------------------------------------------------------------------------\n",
            "const          0.0188      0.013      1.397      0.162      -0.008       0.045\n",
            "ar.L1         -0.0197      0.008     -2.525      0.012      -0.035      -0.004\n",
            "ar.L2         -0.0482      0.007     -6.880      0.000      -0.062      -0.034\n",
            "ar.L3         -0.0669      0.007     -9.385      0.000      -0.081      -0.053\n",
            "ar.L4          0.0302      0.007      4.130      0.000       0.016       0.045\n",
            "sigma2         1.2481      0.012    104.626      0.000       1.225       1.271\n",
            "===================================================================================\n",
            "Ljung-Box (L1) (Q):                   0.02   Jarque-Bera (JB):              8799.03\n",
            "Prob(Q):                              0.89   Prob(JB):                         0.00\n",
            "Heteroskedasticity (H):               0.88   Skew:                            -0.12\n",
            "Prob(H) (two-sided):                  0.00   Kurtosis:                         8.83\n",
            "===================================================================================\n",
            "\n",
            "Warnings:\n",
            "[1] Covariance matrix calculated using the outer product of gradients (complex-step).\n",
            "LLR test: 0.017\n"
          ]
        }
      ]
    },
    {
      "cell_type": "code",
      "source": [
        "model_ret_ar_5 = ARIMA(df.returns, order = (5,0,0))\n",
        "results_ret_ar_5 = model_ret_ar_5.fit()\n",
        "print(results_ret_ar_5.summary())\n",
        "print (\"LLR test: \" + str(LLR_test(model_ret_ar_4, model_ret_ar_5)))"
      ],
      "metadata": {
        "colab": {
          "base_uri": "https://localhost:8080/"
        },
        "id": "8SAfGP2nBjjl",
        "outputId": "80ff9539-dc25-44a0-e0d9-09434a5d7dff"
      },
      "execution_count": null,
      "outputs": [
        {
          "output_type": "stream",
          "name": "stdout",
          "text": [
            "                               SARIMAX Results                                \n",
            "==============================================================================\n",
            "Dep. Variable:                returns   No. Observations:                 6209\n",
            "Model:                 ARIMA(5, 0, 0)   Log Likelihood               -9487.864\n",
            "Date:                Sat, 14 Oct 2023   AIC                          18989.729\n",
            "Time:                        21:10:08   BIC                          19036.865\n",
            "Sample:                    01-10-1994   HQIC                         19006.070\n",
            "                         - 10-26-2017                                         \n",
            "Covariance Type:                  opg                                         \n",
            "==============================================================================\n",
            "                 coef    std err          z      P>|z|      [0.025      0.975]\n",
            "------------------------------------------------------------------------------\n",
            "const          0.0188      0.013      1.471      0.141      -0.006       0.044\n",
            "ar.L1         -0.0180      0.008     -2.247      0.025      -0.034      -0.002\n",
            "ar.L2         -0.0521      0.007     -7.333      0.000      -0.066      -0.038\n",
            "ar.L3         -0.0697      0.007     -9.812      0.000      -0.084      -0.056\n",
            "ar.L4          0.0291      0.007      3.948      0.000       0.015       0.044\n",
            "ar.L5         -0.0580      0.007     -8.139      0.000      -0.072      -0.044\n",
            "sigma2         1.2439      0.012    104.284      0.000       1.221       1.267\n",
            "===================================================================================\n",
            "Ljung-Box (L1) (Q):                   0.03   Jarque-Bera (JB):              8534.66\n",
            "Prob(Q):                              0.87   Prob(JB):                         0.00\n",
            "Heteroskedasticity (H):               0.88   Skew:                            -0.16\n",
            "Prob(H) (two-sided):                  0.00   Kurtosis:                         8.73\n",
            "===================================================================================\n",
            "\n",
            "Warnings:\n",
            "[1] Covariance matrix calculated using the outer product of gradients (complex-step).\n",
            "LLR test: 0.0\n"
          ]
        }
      ]
    },
    {
      "cell_type": "code",
      "source": [
        "model_ret_ar_6 = ARIMA(df.returns, order = (6,0,0))\n",
        "results_ret_ar_6 = model_ret_ar_6.fit()\n",
        "print(results_ret_ar_6.summary())\n",
        "print (\"LLR test: \" + str(LLR_test(model_ret_ar_5, model_ret_ar_6)))"
      ],
      "metadata": {
        "colab": {
          "base_uri": "https://localhost:8080/"
        },
        "id": "8aFz4C4sBo4j",
        "outputId": "1d2d10bc-101d-4366-edec-238f708f3d44"
      },
      "execution_count": null,
      "outputs": [
        {
          "output_type": "stream",
          "name": "stdout",
          "text": [
            "                               SARIMAX Results                                \n",
            "==============================================================================\n",
            "Dep. Variable:                returns   No. Observations:                 6209\n",
            "Model:                 ARIMA(6, 0, 0)   Log Likelihood               -9483.825\n",
            "Date:                Sat, 14 Oct 2023   AIC                          18983.651\n",
            "Time:                        21:10:31   BIC                          19037.521\n",
            "Sample:                    01-10-1994   HQIC                         19002.326\n",
            "                         - 10-26-2017                                         \n",
            "Covariance Type:                  opg                                         \n",
            "==============================================================================\n",
            "                 coef    std err          z      P>|z|      [0.025      0.975]\n",
            "------------------------------------------------------------------------------\n",
            "const          0.0188      0.012      1.514      0.130      -0.006       0.043\n",
            "ar.L1         -0.0201      0.008     -2.458      0.014      -0.036      -0.004\n",
            "ar.L2         -0.0510      0.007     -7.126      0.000      -0.065      -0.037\n",
            "ar.L3         -0.0722      0.007    -10.139      0.000      -0.086      -0.058\n",
            "ar.L4          0.0272      0.007      3.696      0.000       0.013       0.042\n",
            "ar.L5         -0.0586      0.007     -8.195      0.000      -0.073      -0.045\n",
            "ar.L6         -0.0360      0.008     -4.563      0.000      -0.052      -0.021\n",
            "sigma2         1.2423      0.012    104.242      0.000       1.219       1.266\n",
            "===================================================================================\n",
            "Ljung-Box (L1) (Q):                   0.00   Jarque-Bera (JB):              8599.60\n",
            "Prob(Q):                              0.98   Prob(JB):                         0.00\n",
            "Heteroskedasticity (H):               0.89   Skew:                            -0.18\n",
            "Prob(H) (two-sided):                  0.01   Kurtosis:                         8.75\n",
            "===================================================================================\n",
            "\n",
            "Warnings:\n",
            "[1] Covariance matrix calculated using the outer product of gradients (complex-step).\n",
            "LLR test: 0.004\n"
          ]
        }
      ]
    },
    {
      "cell_type": "code",
      "source": [
        "model_ret_ar_7 = ARIMA(df.returns, order = (7,0,0))\n",
        "results_ret_ar_7 = model_ret_ar_7.fit()\n",
        "results_ret_ar_7.summary()"
      ],
      "metadata": {
        "colab": {
          "base_uri": "https://localhost:8080/",
          "height": 558
        },
        "id": "2qjMmcvFBx85",
        "outputId": "69e9c98a-d50c-4ce2-bd8f-9bdbdd0cb61a"
      },
      "execution_count": null,
      "outputs": [
        {
          "output_type": "execute_result",
          "data": {
            "text/plain": [
              "<class 'statsmodels.iolib.summary.Summary'>\n",
              "\"\"\"\n",
              "                               SARIMAX Results                                \n",
              "==============================================================================\n",
              "Dep. Variable:                returns   No. Observations:                 6209\n",
              "Model:                 ARIMA(7, 0, 0)   Log Likelihood               -9483.630\n",
              "Date:                Sat, 14 Oct 2023   AIC                          18985.260\n",
              "Time:                        21:11:20   BIC                          19045.863\n",
              "Sample:                    01-10-1994   HQIC                         19006.269\n",
              "                         - 10-26-2017                                         \n",
              "Covariance Type:                  opg                                         \n",
              "==============================================================================\n",
              "                 coef    std err          z      P>|z|      [0.025      0.975]\n",
              "------------------------------------------------------------------------------\n",
              "const          0.0188      0.013      1.495      0.135      -0.006       0.044\n",
              "ar.L1         -0.0198      0.008     -2.415      0.016      -0.036      -0.004\n",
              "ar.L2         -0.0506      0.007     -7.012      0.000      -0.065      -0.036\n",
              "ar.L3         -0.0724      0.007    -10.036      0.000      -0.087      -0.058\n",
              "ar.L4          0.0278      0.007      3.732      0.000       0.013       0.042\n",
              "ar.L5         -0.0582      0.007     -8.105      0.000      -0.072      -0.044\n",
              "ar.L6         -0.0359      0.008     -4.531      0.000      -0.051      -0.020\n",
              "ar.L7          0.0079      0.008      0.989      0.323      -0.008       0.024\n",
              "sigma2         1.2422      0.012    103.598      0.000       1.219       1.266\n",
              "===================================================================================\n",
              "Ljung-Box (L1) (Q):                   0.00   Jarque-Bera (JB):              8567.66\n",
              "Prob(Q):                              0.99   Prob(JB):                         0.00\n",
              "Heteroskedasticity (H):               0.89   Skew:                            -0.18\n",
              "Prob(H) (two-sided):                  0.01   Kurtosis:                         8.74\n",
              "===================================================================================\n",
              "\n",
              "Warnings:\n",
              "[1] Covariance matrix calculated using the outer product of gradients (complex-step).\n",
              "\"\"\""
            ],
            "text/html": [
              "<table class=\"simpletable\">\n",
              "<caption>SARIMAX Results</caption>\n",
              "<tr>\n",
              "  <th>Dep. Variable:</th>        <td>returns</td>     <th>  No. Observations:  </th>   <td>6209</td>   \n",
              "</tr>\n",
              "<tr>\n",
              "  <th>Model:</th>            <td>ARIMA(7, 0, 0)</td>  <th>  Log Likelihood     </th> <td>-9483.630</td>\n",
              "</tr>\n",
              "<tr>\n",
              "  <th>Date:</th>            <td>Sat, 14 Oct 2023</td> <th>  AIC                </th> <td>18985.260</td>\n",
              "</tr>\n",
              "<tr>\n",
              "  <th>Time:</th>                <td>21:11:20</td>     <th>  BIC                </th> <td>19045.863</td>\n",
              "</tr>\n",
              "<tr>\n",
              "  <th>Sample:</th>             <td>01-10-1994</td>    <th>  HQIC               </th> <td>19006.269</td>\n",
              "</tr>\n",
              "<tr>\n",
              "  <th></th>                   <td>- 10-26-2017</td>   <th>                     </th>     <td> </td>    \n",
              "</tr>\n",
              "<tr>\n",
              "  <th>Covariance Type:</th>        <td>opg</td>       <th>                     </th>     <td> </td>    \n",
              "</tr>\n",
              "</table>\n",
              "<table class=\"simpletable\">\n",
              "<tr>\n",
              "     <td></td>       <th>coef</th>     <th>std err</th>      <th>z</th>      <th>P>|z|</th>  <th>[0.025</th>    <th>0.975]</th>  \n",
              "</tr>\n",
              "<tr>\n",
              "  <th>const</th>  <td>    0.0188</td> <td>    0.013</td> <td>    1.495</td> <td> 0.135</td> <td>   -0.006</td> <td>    0.044</td>\n",
              "</tr>\n",
              "<tr>\n",
              "  <th>ar.L1</th>  <td>   -0.0198</td> <td>    0.008</td> <td>   -2.415</td> <td> 0.016</td> <td>   -0.036</td> <td>   -0.004</td>\n",
              "</tr>\n",
              "<tr>\n",
              "  <th>ar.L2</th>  <td>   -0.0506</td> <td>    0.007</td> <td>   -7.012</td> <td> 0.000</td> <td>   -0.065</td> <td>   -0.036</td>\n",
              "</tr>\n",
              "<tr>\n",
              "  <th>ar.L3</th>  <td>   -0.0724</td> <td>    0.007</td> <td>  -10.036</td> <td> 0.000</td> <td>   -0.087</td> <td>   -0.058</td>\n",
              "</tr>\n",
              "<tr>\n",
              "  <th>ar.L4</th>  <td>    0.0278</td> <td>    0.007</td> <td>    3.732</td> <td> 0.000</td> <td>    0.013</td> <td>    0.042</td>\n",
              "</tr>\n",
              "<tr>\n",
              "  <th>ar.L5</th>  <td>   -0.0582</td> <td>    0.007</td> <td>   -8.105</td> <td> 0.000</td> <td>   -0.072</td> <td>   -0.044</td>\n",
              "</tr>\n",
              "<tr>\n",
              "  <th>ar.L6</th>  <td>   -0.0359</td> <td>    0.008</td> <td>   -4.531</td> <td> 0.000</td> <td>   -0.051</td> <td>   -0.020</td>\n",
              "</tr>\n",
              "<tr>\n",
              "  <th>ar.L7</th>  <td>    0.0079</td> <td>    0.008</td> <td>    0.989</td> <td> 0.323</td> <td>   -0.008</td> <td>    0.024</td>\n",
              "</tr>\n",
              "<tr>\n",
              "  <th>sigma2</th> <td>    1.2422</td> <td>    0.012</td> <td>  103.598</td> <td> 0.000</td> <td>    1.219</td> <td>    1.266</td>\n",
              "</tr>\n",
              "</table>\n",
              "<table class=\"simpletable\">\n",
              "<tr>\n",
              "  <th>Ljung-Box (L1) (Q):</th>     <td>0.00</td> <th>  Jarque-Bera (JB):  </th> <td>8567.66</td>\n",
              "</tr>\n",
              "<tr>\n",
              "  <th>Prob(Q):</th>                <td>0.99</td> <th>  Prob(JB):          </th>  <td>0.00</td>  \n",
              "</tr>\n",
              "<tr>\n",
              "  <th>Heteroskedasticity (H):</th> <td>0.89</td> <th>  Skew:              </th>  <td>-0.18</td> \n",
              "</tr>\n",
              "<tr>\n",
              "  <th>Prob(H) (two-sided):</th>    <td>0.01</td> <th>  Kurtosis:          </th>  <td>8.74</td>  \n",
              "</tr>\n",
              "</table><br/><br/>Warnings:<br/>[1] Covariance matrix calculated using the outer product of gradients (complex-step)."
            ],
            "text/latex": "\\begin{center}\n\\begin{tabular}{lclc}\n\\toprule\n\\textbf{Dep. Variable:}          &     returns      & \\textbf{  No. Observations:  } &    6209     \\\\\n\\textbf{Model:}                  &  ARIMA(7, 0, 0)  & \\textbf{  Log Likelihood     } & -9483.630   \\\\\n\\textbf{Date:}                   & Sat, 14 Oct 2023 & \\textbf{  AIC                } & 18985.260   \\\\\n\\textbf{Time:}                   &     21:11:20     & \\textbf{  BIC                } & 19045.863   \\\\\n\\textbf{Sample:}                 &    01-10-1994    & \\textbf{  HQIC               } & 19006.269   \\\\\n\\textbf{}                        &   - 10-26-2017   & \\textbf{                     } &             \\\\\n\\textbf{Covariance Type:}        &       opg        & \\textbf{                     } &             \\\\\n\\bottomrule\n\\end{tabular}\n\\begin{tabular}{lcccccc}\n                & \\textbf{coef} & \\textbf{std err} & \\textbf{z} & \\textbf{P$> |$z$|$} & \\textbf{[0.025} & \\textbf{0.975]}  \\\\\n\\midrule\n\\textbf{const}  &       0.0188  &        0.013     &     1.495  &         0.135        &       -0.006    &        0.044     \\\\\n\\textbf{ar.L1}  &      -0.0198  &        0.008     &    -2.415  &         0.016        &       -0.036    &       -0.004     \\\\\n\\textbf{ar.L2}  &      -0.0506  &        0.007     &    -7.012  &         0.000        &       -0.065    &       -0.036     \\\\\n\\textbf{ar.L3}  &      -0.0724  &        0.007     &   -10.036  &         0.000        &       -0.087    &       -0.058     \\\\\n\\textbf{ar.L4}  &       0.0278  &        0.007     &     3.732  &         0.000        &        0.013    &        0.042     \\\\\n\\textbf{ar.L5}  &      -0.0582  &        0.007     &    -8.105  &         0.000        &       -0.072    &       -0.044     \\\\\n\\textbf{ar.L6}  &      -0.0359  &        0.008     &    -4.531  &         0.000        &       -0.051    &       -0.020     \\\\\n\\textbf{ar.L7}  &       0.0079  &        0.008     &     0.989  &         0.323        &       -0.008    &        0.024     \\\\\n\\textbf{sigma2} &       1.2422  &        0.012     &   103.598  &         0.000        &        1.219    &        1.266     \\\\\n\\bottomrule\n\\end{tabular}\n\\begin{tabular}{lclc}\n\\textbf{Ljung-Box (L1) (Q):}     & 0.00 & \\textbf{  Jarque-Bera (JB):  } & 8567.66  \\\\\n\\textbf{Prob(Q):}                & 0.99 & \\textbf{  Prob(JB):          } &   0.00   \\\\\n\\textbf{Heteroskedasticity (H):} & 0.89 & \\textbf{  Skew:              } &  -0.18   \\\\\n\\textbf{Prob(H) (two-sided):}    & 0.01 & \\textbf{  Kurtosis:          } &   8.74   \\\\\n\\bottomrule\n\\end{tabular}\n%\\caption{SARIMAX Results}\n\\end{center}\n\nWarnings: \\newline\n [1] Covariance matrix calculated using the outer product of gradients (complex-step)."
          },
          "metadata": {},
          "execution_count": 75
        }
      ]
    },
    {
      "cell_type": "code",
      "source": [
        "print (LLR_test(model_ret_ar_6, model_ret_ar_7))"
      ],
      "metadata": {
        "colab": {
          "base_uri": "https://localhost:8080/"
        },
        "id": "_gHhsiOvB3VP",
        "outputId": "8fe8984f-5cfb-4c9d-a9be-1e449ae0dd62"
      },
      "execution_count": null,
      "outputs": [
        {
          "output_type": "stream",
          "name": "stdout",
          "text": [
            "0.532\n"
          ]
        }
      ]
    },
    {
      "cell_type": "markdown",
      "source": [
        "#Normalizing Values"
      ],
      "metadata": {
        "id": "6pRRkjOGB-ED"
      }
    },
    {
      "cell_type": "code",
      "source": [
        "benchmark = df.market_value.iloc[0]"
      ],
      "metadata": {
        "id": "60-Owz44B_pL"
      },
      "execution_count": null,
      "outputs": []
    },
    {
      "cell_type": "code",
      "source": [
        "df['norm'] = df.market_value.div(benchmark).mul(100)"
      ],
      "metadata": {
        "id": "68Lal6qPCDUU"
      },
      "execution_count": null,
      "outputs": []
    },
    {
      "cell_type": "code",
      "source": [
        "sts.adfuller(df.norm)"
      ],
      "metadata": {
        "colab": {
          "base_uri": "https://localhost:8080/"
        },
        "id": "z81_shUmCF6V",
        "outputId": "35245c05-b30a-4876-8782-0b473cdfceb2"
      },
      "execution_count": null,
      "outputs": [
        {
          "output_type": "execute_result",
          "data": {
            "text/plain": [
              "(-1.669394977036219,\n",
              " 0.4469460568636671,\n",
              " 6,\n",
              " 6202,\n",
              " {'1%': -3.431404822413956,\n",
              "  '5%': -2.862006137330532,\n",
              "  '10%': -2.567018122044246},\n",
              " 24083.971997382178)"
            ]
          },
          "metadata": {},
          "execution_count": 79
        }
      ]
    },
    {
      "cell_type": "code",
      "source": [
        "bench_ret = df.returns.iloc[0]\n",
        "df['norm_ret'] = df.returns.div(bench_ret).mul(100)\n",
        "sts.adfuller(df.norm_ret)"
      ],
      "metadata": {
        "colab": {
          "base_uri": "https://localhost:8080/"
        },
        "id": "UVw7egaHCIfE",
        "outputId": "db7b2e7c-4912-48a3-f0f8-32842f9e73c3"
      },
      "execution_count": null,
      "outputs": [
        {
          "output_type": "execute_result",
          "data": {
            "text/plain": [
              "(-15.030758253593293,\n",
              " 9.910907283618968e-28,\n",
              " 34,\n",
              " 6174,\n",
              " {'1%': -3.431409608180226,\n",
              "  '5%': -2.8620082518350323,\n",
              "  '10%': -2.5670192476469817},\n",
              " 98627.71104331779)"
            ]
          },
          "metadata": {},
          "execution_count": 80
        }
      ]
    }
  ]
}